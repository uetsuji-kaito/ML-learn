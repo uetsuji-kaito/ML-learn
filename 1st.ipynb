{
  "nbformat": 4,
  "nbformat_minor": 0,
  "metadata": {
    "colab": {
      "name": "1st.ipynb",
      "provenance": [],
      "collapsed_sections": [],
      "toc_visible": true,
      "authorship_tag": "ABX9TyOZny5KEx42TYGEABD0FD4b",
      "include_colab_link": true
    },
    "kernelspec": {
      "name": "python3",
      "display_name": "Python 3"
    }
  },
  "cells": [
    {
      "cell_type": "markdown",
      "metadata": {
        "id": "view-in-github",
        "colab_type": "text"
      },
      "source": [
        "<a href=\"https://colab.research.google.com/github/uetsuji-kaito/ML-learn/blob/master/1st.ipynb\" target=\"_parent\"><img src=\"https://colab.research.google.com/assets/colab-badge.svg\" alt=\"Open In Colab\"/></a>"
      ]
    },
    {
      "cell_type": "markdown",
      "metadata": {
        "id": "2BDPxfNvS2dT",
        "colab_type": "text"
      },
      "source": [
        "## Ex.0 兎にも角にも始めてみる\n",
        "何も考えず始めてみましょう!  \n",
        "まずは, 上から順に各セルを実行してみましょう.  \n",
        "そして, ゆっくりとコードを眺めてみましょう.  \n",
        "大切なことは始めてみることです.  \n",
        "分からなくても今は進みましょう. いつかわかる日が来ます."
      ]
    },
    {
      "cell_type": "code",
      "metadata": {
        "id": "k7sJzi-mP2bV",
        "colab_type": "code",
        "colab": {}
      },
      "source": [
        "# 必要なライブラリのインストール\n",
        "!pip install tensorflow==2.1.0"
      ],
      "execution_count": 0,
      "outputs": []
    },
    {
      "cell_type": "code",
      "metadata": {
        "id": "bXky9m0WKjZ4",
        "colab_type": "code",
        "outputId": "4e9817d3-2023-4243-813c-e923a02166e7",
        "colab": {
          "base_uri": "https://localhost:8080/",
          "height": 34
        }
      },
      "source": [
        "# 必要なライブラリの読み込み\n",
        "import tensorflow as tf\n",
        "print(tf.__version__)\n",
        "from tensorflow import keras"
      ],
      "execution_count": 2,
      "outputs": [
        {
          "output_type": "stream",
          "text": [
            "2.1.0\n"
          ],
          "name": "stdout"
        }
      ]
    },
    {
      "cell_type": "markdown",
      "metadata": {
        "id": "4qR584AkT2jh",
        "colab_type": "text"
      },
      "source": [
        "ここで, データを与えます.\n",
        "「x」が入力データであり「y」は出力データです. この二つの変数には\n",
        "$$\n",
        "y = 3x+1\n",
        "$$\n",
        "という関係があります.  "
      ]
    },
    {
      "cell_type": "code",
      "metadata": {
        "id": "0o6vfcCGK0v2",
        "colab_type": "code",
        "colab": {}
      },
      "source": [
        "# 入力データ\n",
        "x = [-1.0, 0.0, 1.0, 2.0, 3.0, 4.0, 5.0]\n",
        "# 出力データ\n",
        "y = [-2.0, 1.0, 4.0, 7.0, 10.0, 13.0, 16.0]"
      ],
      "execution_count": 0,
      "outputs": []
    },
    {
      "cell_type": "markdown",
      "metadata": {
        "id": "97CckVALU0Js",
        "colab_type": "text"
      },
      "source": [
        "ここで, モデルを作成します.  \n",
        "モデルを作成する手順は単純で,  \n",
        "1. モデルを定義する\n",
        "2. モデルをコンパイルする\n",
        "\n",
        "の2つです.  \n",
        "今はこんなもんなのかということでOKです."
      ]
    },
    {
      "cell_type": "code",
      "metadata": {
        "id": "QtsUrwbELMrx",
        "colab_type": "code",
        "colab": {}
      },
      "source": [
        "# モデルの定義\n",
        "model = keras.Sequential()\n",
        "# 今回は全結合層1層\n",
        "model.add(keras.layers.Dense(units=1, input_shape=(1,)))\n",
        "# モデルのコンパイル\n",
        "# 最適化手法はSGD(確率的勾配降下法)\n",
        "# 損失関数は2乗和誤差\n",
        "model.compile(\n",
        "    optimizer=keras.optimizers.SGD(), \n",
        "    loss=keras.losses.MeanSquaredError()\n",
        ")"
      ],
      "execution_count": 0,
      "outputs": []
    },
    {
      "cell_type": "markdown",
      "metadata": {
        "id": "-nIlO0MZV2QK",
        "colab_type": "text"
      },
      "source": [
        "いよいよ学習です!  \n",
        "ここで, 「epochs」 という変数があります.  \n",
        "これは, 学習の回数 を意味します.  \n",
        "この変数はエンジニアが状況に応じて自由に設定します.  \n",
        "後程いじってみましょう."
      ]
    },
    {
      "cell_type": "code",
      "metadata": {
        "id": "TnhboXGRNLBl",
        "colab_type": "code",
        "colab": {
          "base_uri": "https://localhost:8080/",
          "height": 391
        },
        "outputId": "079a42f6-8b68-4e37-957d-6c41b60e98f2"
      },
      "source": [
        "# 学習\n",
        "model.fit(x, y, batch_size=1, epochs=10)"
      ],
      "execution_count": 5,
      "outputs": [
        {
          "output_type": "stream",
          "text": [
            "Train on 7 samples\n",
            "Epoch 1/10\n",
            "7/7 [==============================] - 0s 22ms/sample - loss: 29.1066\n",
            "Epoch 2/10\n",
            "7/7 [==============================] - 0s 2ms/sample - loss: 1.4877\n",
            "Epoch 3/10\n",
            "7/7 [==============================] - 0s 2ms/sample - loss: 0.1041\n",
            "Epoch 4/10\n",
            "7/7 [==============================] - 0s 2ms/sample - loss: 0.0306\n",
            "Epoch 5/10\n",
            "7/7 [==============================] - 0s 2ms/sample - loss: 0.0235\n",
            "Epoch 6/10\n",
            "7/7 [==============================] - 0s 2ms/sample - loss: 0.0203\n",
            "Epoch 7/10\n",
            "7/7 [==============================] - 0s 2ms/sample - loss: 0.0177\n",
            "Epoch 8/10\n",
            "7/7 [==============================] - 0s 2ms/sample - loss: 0.0153\n",
            "Epoch 9/10\n",
            "7/7 [==============================] - 0s 2ms/sample - loss: 0.0136\n",
            "Epoch 10/10\n",
            "7/7 [==============================] - 0s 2ms/sample - loss: 0.0119\n"
          ],
          "name": "stdout"
        },
        {
          "output_type": "execute_result",
          "data": {
            "text/plain": [
              "<tensorflow.python.keras.callbacks.History at 0x7fca628fd7b8>"
            ]
          },
          "metadata": {
            "tags": []
          },
          "execution_count": 5
        }
      ]
    },
    {
      "cell_type": "markdown",
      "metadata": {
        "id": "c43DOShVW4wV",
        "colab_type": "text"
      },
      "source": [
        "**あなたも機械学習に入門できました!!**  \n",
        "最後にきちんと学習できたか試してこの章を終わりましょう.  \n",
        "今回は試しに「10」を入れてみましょう.  \n",
        "理論的には「31」が正しい値です. 果たして結果は..."
      ]
    },
    {
      "cell_type": "code",
      "metadata": {
        "id": "cqydy6lZNv3h",
        "colab_type": "code",
        "outputId": "02a1493f-a6fe-49df-930c-e5353bc7e7ad",
        "colab": {
          "base_uri": "https://localhost:8080/",
          "height": 34
        }
      },
      "source": [
        "# テスト\n",
        "# x が 10 のとき, どの値を返すかテスト\n",
        "x_test = [10]\n",
        "print(model.predict(x_test))"
      ],
      "execution_count": 6,
      "outputs": [
        {
          "output_type": "stream",
          "text": [
            "[[31.194588]]\n"
          ],
          "name": "stdout"
        }
      ]
    },
    {
      "cell_type": "markdown",
      "metadata": {
        "id": "m3CZ5umWYTpR",
        "colab_type": "text"
      },
      "source": [
        "## Ex.1 学習回数を増やしてみる\n",
        "すでに皆さんは機械学習に入門されました.  \n",
        "おめでとうございます!!  \n",
        "次に興味を抱かれることの一つは, 精度の向上でしょうか?  \n",
        "もしそうであれば, いくつか簡単な実験をしてみましょう.  \n",
        "\n",
        "---\n",
        "\n",
        "さて, もしあなたが\n",
        "\n"
      ]
    }
  ]
}