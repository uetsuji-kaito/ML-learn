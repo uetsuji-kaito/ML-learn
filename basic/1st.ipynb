{
  "nbformat": 4,
  "nbformat_minor": 0,
  "metadata": {
    "colab": {
      "name": "1st.ipynb",
      "provenance": [],
      "collapsed_sections": [],
      "toc_visible": true,
      "authorship_tag": "ABX9TyNNoNvcMydXtnNsTgG/Lhiz",
      "include_colab_link": true
    },
    "kernelspec": {
      "name": "python3",
      "display_name": "Python 3"
    }
  },
  "cells": [
    {
      "cell_type": "markdown",
      "metadata": {
        "id": "view-in-github",
        "colab_type": "text"
      },
      "source": [
        "<a href=\"https://colab.research.google.com/github/uetsuji-kaito/ML-learn/blob/master/basic/1st.ipynb\" target=\"_parent\"><img src=\"https://colab.research.google.com/assets/colab-badge.svg\" alt=\"Open In Colab\"/></a>"
      ]
    },
    {
      "cell_type": "markdown",
      "metadata": {
        "id": "2BDPxfNvS2dT",
        "colab_type": "text"
      },
      "source": [
        "## ch.0 兎にも角にも始めてみる\n",
        "何も考えず始めてみましょう!  \n",
        "まずは, 上から順に各セルを実行してみましょう.  \n",
        "そして, ゆっくりとコードを眺めてみましょう.  \n",
        "大切なことは始めてみることです.  \n",
        "分からなくても今は進みましょう. いつかわかる日が来ます."
      ]
    },
    {
      "cell_type": "code",
      "metadata": {
        "id": "k7sJzi-mP2bV",
        "colab_type": "code",
        "colab": {
          "base_uri": "https://localhost:8080/",
          "height": 901
        },
        "outputId": "5dc93a2a-8408-45c6-f248-87119a431919"
      },
      "source": [
        "# 必要なライブラリのインストール\n",
        "!pip install tensorflow==2.1.0"
      ],
      "execution_count": 1,
      "outputs": [
        {
          "output_type": "stream",
          "text": [
            "Collecting tensorflow==2.1.0\n",
            "\u001b[?25l  Downloading https://files.pythonhosted.org/packages/85/d4/c0cd1057b331bc38b65478302114194bd8e1b9c2bbc06e300935c0e93d90/tensorflow-2.1.0-cp36-cp36m-manylinux2010_x86_64.whl (421.8MB)\n",
            "\u001b[K     |████████████████████████████████| 421.8MB 36kB/s \n",
            "\u001b[?25hRequirement already satisfied: protobuf>=3.8.0 in /usr/local/lib/python3.6/dist-packages (from tensorflow==2.1.0) (3.10.0)\n",
            "Requirement already satisfied: six>=1.12.0 in /usr/local/lib/python3.6/dist-packages (from tensorflow==2.1.0) (1.12.0)\n",
            "Requirement already satisfied: scipy==1.4.1; python_version >= \"3\" in /usr/local/lib/python3.6/dist-packages (from tensorflow==2.1.0) (1.4.1)\n",
            "Requirement already satisfied: opt-einsum>=2.3.2 in /usr/local/lib/python3.6/dist-packages (from tensorflow==2.1.0) (3.1.0)\n",
            "Requirement already satisfied: keras-applications>=1.0.8 in /usr/local/lib/python3.6/dist-packages (from tensorflow==2.1.0) (1.0.8)\n",
            "Requirement already satisfied: gast==0.2.2 in /usr/local/lib/python3.6/dist-packages (from tensorflow==2.1.0) (0.2.2)\n",
            "Requirement already satisfied: numpy<2.0,>=1.16.0 in /usr/local/lib/python3.6/dist-packages (from tensorflow==2.1.0) (1.17.5)\n",
            "Requirement already satisfied: grpcio>=1.8.6 in /usr/local/lib/python3.6/dist-packages (from tensorflow==2.1.0) (1.27.1)\n",
            "Requirement already satisfied: astor>=0.6.0 in /usr/local/lib/python3.6/dist-packages (from tensorflow==2.1.0) (0.8.1)\n",
            "Requirement already satisfied: wheel>=0.26; python_version >= \"3\" in /usr/local/lib/python3.6/dist-packages (from tensorflow==2.1.0) (0.34.2)\n",
            "Requirement already satisfied: termcolor>=1.1.0 in /usr/local/lib/python3.6/dist-packages (from tensorflow==2.1.0) (1.1.0)\n",
            "Requirement already satisfied: wrapt>=1.11.1 in /usr/local/lib/python3.6/dist-packages (from tensorflow==2.1.0) (1.11.2)\n",
            "Collecting tensorboard<2.2.0,>=2.1.0\n",
            "\u001b[?25l  Downloading https://files.pythonhosted.org/packages/40/23/53ffe290341cd0855d595b0a2e7485932f473798af173bbe3a584b99bb06/tensorboard-2.1.0-py3-none-any.whl (3.8MB)\n",
            "\u001b[K     |████████████████████████████████| 3.8MB 44.9MB/s \n",
            "\u001b[?25hRequirement already satisfied: absl-py>=0.7.0 in /usr/local/lib/python3.6/dist-packages (from tensorflow==2.1.0) (0.9.0)\n",
            "Requirement already satisfied: keras-preprocessing>=1.1.0 in /usr/local/lib/python3.6/dist-packages (from tensorflow==2.1.0) (1.1.0)\n",
            "Collecting tensorflow-estimator<2.2.0,>=2.1.0rc0\n",
            "\u001b[?25l  Downloading https://files.pythonhosted.org/packages/18/90/b77c328a1304437ab1310b463e533fa7689f4bfc41549593056d812fab8e/tensorflow_estimator-2.1.0-py2.py3-none-any.whl (448kB)\n",
            "\u001b[K     |████████████████████████████████| 450kB 43.8MB/s \n",
            "\u001b[?25hRequirement already satisfied: google-pasta>=0.1.6 in /usr/local/lib/python3.6/dist-packages (from tensorflow==2.1.0) (0.1.8)\n",
            "Requirement already satisfied: setuptools in /usr/local/lib/python3.6/dist-packages (from protobuf>=3.8.0->tensorflow==2.1.0) (45.1.0)\n",
            "Requirement already satisfied: h5py in /usr/local/lib/python3.6/dist-packages (from keras-applications>=1.0.8->tensorflow==2.1.0) (2.8.0)\n",
            "Requirement already satisfied: markdown>=2.6.8 in /usr/local/lib/python3.6/dist-packages (from tensorboard<2.2.0,>=2.1.0->tensorflow==2.1.0) (3.2.1)\n",
            "Requirement already satisfied: google-auth-oauthlib<0.5,>=0.4.1 in /usr/local/lib/python3.6/dist-packages (from tensorboard<2.2.0,>=2.1.0->tensorflow==2.1.0) (0.4.1)\n",
            "Requirement already satisfied: requests<3,>=2.21.0 in /usr/local/lib/python3.6/dist-packages (from tensorboard<2.2.0,>=2.1.0->tensorflow==2.1.0) (2.21.0)\n",
            "Requirement already satisfied: google-auth<2,>=1.6.3 in /usr/local/lib/python3.6/dist-packages (from tensorboard<2.2.0,>=2.1.0->tensorflow==2.1.0) (1.7.2)\n",
            "Requirement already satisfied: werkzeug>=0.11.15 in /usr/local/lib/python3.6/dist-packages (from tensorboard<2.2.0,>=2.1.0->tensorflow==2.1.0) (1.0.0)\n",
            "Requirement already satisfied: requests-oauthlib>=0.7.0 in /usr/local/lib/python3.6/dist-packages (from google-auth-oauthlib<0.5,>=0.4.1->tensorboard<2.2.0,>=2.1.0->tensorflow==2.1.0) (1.3.0)\n",
            "Requirement already satisfied: certifi>=2017.4.17 in /usr/local/lib/python3.6/dist-packages (from requests<3,>=2.21.0->tensorboard<2.2.0,>=2.1.0->tensorflow==2.1.0) (2019.11.28)\n",
            "Requirement already satisfied: idna<2.9,>=2.5 in /usr/local/lib/python3.6/dist-packages (from requests<3,>=2.21.0->tensorboard<2.2.0,>=2.1.0->tensorflow==2.1.0) (2.8)\n",
            "Requirement already satisfied: urllib3<1.25,>=1.21.1 in /usr/local/lib/python3.6/dist-packages (from requests<3,>=2.21.0->tensorboard<2.2.0,>=2.1.0->tensorflow==2.1.0) (1.24.3)\n",
            "Requirement already satisfied: chardet<3.1.0,>=3.0.2 in /usr/local/lib/python3.6/dist-packages (from requests<3,>=2.21.0->tensorboard<2.2.0,>=2.1.0->tensorflow==2.1.0) (3.0.4)\n",
            "Requirement already satisfied: pyasn1-modules>=0.2.1 in /usr/local/lib/python3.6/dist-packages (from google-auth<2,>=1.6.3->tensorboard<2.2.0,>=2.1.0->tensorflow==2.1.0) (0.2.8)\n",
            "Requirement already satisfied: rsa<4.1,>=3.1.4 in /usr/local/lib/python3.6/dist-packages (from google-auth<2,>=1.6.3->tensorboard<2.2.0,>=2.1.0->tensorflow==2.1.0) (4.0)\n",
            "Requirement already satisfied: cachetools<3.2,>=2.0.0 in /usr/local/lib/python3.6/dist-packages (from google-auth<2,>=1.6.3->tensorboard<2.2.0,>=2.1.0->tensorflow==2.1.0) (3.1.1)\n",
            "Requirement already satisfied: oauthlib>=3.0.0 in /usr/local/lib/python3.6/dist-packages (from requests-oauthlib>=0.7.0->google-auth-oauthlib<0.5,>=0.4.1->tensorboard<2.2.0,>=2.1.0->tensorflow==2.1.0) (3.1.0)\n",
            "Requirement already satisfied: pyasn1<0.5.0,>=0.4.6 in /usr/local/lib/python3.6/dist-packages (from pyasn1-modules>=0.2.1->google-auth<2,>=1.6.3->tensorboard<2.2.0,>=2.1.0->tensorflow==2.1.0) (0.4.8)\n",
            "Installing collected packages: tensorboard, tensorflow-estimator, tensorflow\n",
            "  Found existing installation: tensorboard 1.15.0\n",
            "    Uninstalling tensorboard-1.15.0:\n",
            "      Successfully uninstalled tensorboard-1.15.0\n",
            "  Found existing installation: tensorflow-estimator 1.15.1\n",
            "    Uninstalling tensorflow-estimator-1.15.1:\n",
            "      Successfully uninstalled tensorflow-estimator-1.15.1\n",
            "  Found existing installation: tensorflow 1.15.0\n",
            "    Uninstalling tensorflow-1.15.0:\n",
            "      Successfully uninstalled tensorflow-1.15.0\n",
            "Successfully installed tensorboard-2.1.0 tensorflow-2.1.0 tensorflow-estimator-2.1.0\n"
          ],
          "name": "stdout"
        }
      ]
    },
    {
      "cell_type": "code",
      "metadata": {
        "id": "bXky9m0WKjZ4",
        "colab_type": "code",
        "outputId": "6a16e63d-b1be-4c8d-9b2c-9c1d1d446ece",
        "colab": {
          "base_uri": "https://localhost:8080/",
          "height": 34
        }
      },
      "source": [
        "# 必要なライブラリの読み込み\n",
        "import tensorflow as tf\n",
        "print(tf.__version__)\n",
        "from tensorflow import keras"
      ],
      "execution_count": 2,
      "outputs": [
        {
          "output_type": "stream",
          "text": [
            "2.1.0\n"
          ],
          "name": "stdout"
        }
      ]
    },
    {
      "cell_type": "markdown",
      "metadata": {
        "id": "4qR584AkT2jh",
        "colab_type": "text"
      },
      "source": [
        "ここで, データを与えます.\n",
        "「x」が入力データであり「y」は出力データです. この二つの変数には\n",
        "$$\n",
        "y = 3x+1\n",
        "$$\n",
        "という関係があります.  "
      ]
    },
    {
      "cell_type": "code",
      "metadata": {
        "id": "0o6vfcCGK0v2",
        "colab_type": "code",
        "colab": {}
      },
      "source": [
        "# 入力データ\n",
        "x = [-1.0, 0.0, 1.0, 2.0, 3.0, 4.0, 5.0]\n",
        "# 出力データ\n",
        "y = [-2.0, 1.0, 4.0, 7.0, 10.0, 13.0, 16.0]"
      ],
      "execution_count": 0,
      "outputs": []
    },
    {
      "cell_type": "markdown",
      "metadata": {
        "id": "97CckVALU0Js",
        "colab_type": "text"
      },
      "source": [
        "ここで, モデルを作成します.  \n",
        "モデルを作成する手順は単純で,  \n",
        "1. モデルを定義する\n",
        "2. モデルをコンパイルする\n",
        "\n",
        "の2つです.  \n",
        "今はこんなもんなのかということでOKです."
      ]
    },
    {
      "cell_type": "code",
      "metadata": {
        "id": "QtsUrwbELMrx",
        "colab_type": "code",
        "colab": {}
      },
      "source": [
        "# モデルの定義\n",
        "model = keras.Sequential()\n",
        "# 今回は全結合層1層\n",
        "model.add(keras.layers.Dense(units=1, input_shape=(1,)))\n",
        "# モデルのコンパイル\n",
        "# 最適化手法はSGD(確率的勾配降下法)\n",
        "# 損失関数は2乗和誤差\n",
        "model.compile(\n",
        "    optimizer=keras.optimizers.SGD(), \n",
        "    loss=keras.losses.MeanSquaredError(),\n",
        "    metrics=[\"accuracy\"]\n",
        ")"
      ],
      "execution_count": 0,
      "outputs": []
    },
    {
      "cell_type": "markdown",
      "metadata": {
        "id": "-nIlO0MZV2QK",
        "colab_type": "text"
      },
      "source": [
        "いよいよ学習です!  \n",
        "学習を行う「fit」関数には「epochs」 という引数があります.  \n",
        "これは, 学習の回数 を意味します.  \n",
        "この引数はエンジニアが状況に応じて自由に設定します.  \n",
        "後程いじってみましょう."
      ]
    },
    {
      "cell_type": "code",
      "metadata": {
        "id": "TnhboXGRNLBl",
        "colab_type": "code",
        "outputId": "30204163-a301-4bb2-80cf-092c8fef3052",
        "colab": {
          "base_uri": "https://localhost:8080/",
          "height": 391
        }
      },
      "source": [
        "# 学習\n",
        "model.fit(x, y, batch_size=1, epochs=10)"
      ],
      "execution_count": 6,
      "outputs": [
        {
          "output_type": "stream",
          "text": [
            "Train on 7 samples\n",
            "Epoch 1/10\n",
            "7/7 [==============================] - 0s 26ms/sample - loss: 68.4600 - accuracy: 0.1429\n",
            "Epoch 2/10\n",
            "7/7 [==============================] - 0s 3ms/sample - loss: 3.6395 - accuracy: 0.1429\n",
            "Epoch 3/10\n",
            "7/7 [==============================] - 0s 2ms/sample - loss: 0.1683 - accuracy: 0.1429\n",
            "Epoch 4/10\n",
            "7/7 [==============================] - 0s 3ms/sample - loss: 0.0109 - accuracy: 0.1429\n",
            "Epoch 5/10\n",
            "7/7 [==============================] - 0s 3ms/sample - loss: 0.0027 - accuracy: 0.1429  \n",
            "Epoch 6/10\n",
            "7/7 [==============================] - 0s 2ms/sample - loss: 0.0020 - accuracy: 0.1429  \n",
            "Epoch 7/10\n",
            "7/7 [==============================] - 0s 2ms/sample - loss: 0.0017 - accuracy: 0.1429  \n",
            "Epoch 8/10\n",
            "7/7 [==============================] - 0s 2ms/sample - loss: 0.0015 - accuracy: 0.1429  \n",
            "Epoch 9/10\n",
            "7/7 [==============================] - 0s 3ms/sample - loss: 0.0013 - accuracy: 0.1429\n",
            "Epoch 10/10\n",
            "7/7 [==============================] - 0s 3ms/sample - loss: 0.0011 - accuracy: 0.1429\n"
          ],
          "name": "stdout"
        },
        {
          "output_type": "execute_result",
          "data": {
            "text/plain": [
              "<tensorflow.python.keras.callbacks.History at 0x7f3c336ce438>"
            ]
          },
          "metadata": {
            "tags": []
          },
          "execution_count": 6
        }
      ]
    },
    {
      "cell_type": "markdown",
      "metadata": {
        "id": "c43DOShVW4wV",
        "colab_type": "text"
      },
      "source": [
        "**あなたも機械学習に入門できました!!**  \n",
        "最後にきちんと学習できたか試してこの章を終わりましょう.  \n",
        "今回は試しに「10」を入れてみましょう.  \n",
        "理論的には「31」が正しい値です. 果たして結果は..."
      ]
    },
    {
      "cell_type": "code",
      "metadata": {
        "id": "cqydy6lZNv3h",
        "colab_type": "code",
        "outputId": "f65760bd-aa8a-4a99-dfb3-8e699b5ed9ab",
        "colab": {
          "base_uri": "https://localhost:8080/",
          "height": 34
        }
      },
      "source": [
        "# テスト\n",
        "# x が 10 のとき, どの値を返すかテスト\n",
        "x_test = [10]\n",
        "print(model.predict(x_test))"
      ],
      "execution_count": 7,
      "outputs": [
        {
          "output_type": "stream",
          "text": [
            "[[30.920404]]\n"
          ],
          "name": "stdout"
        }
      ]
    },
    {
      "cell_type": "markdown",
      "metadata": {
        "id": "m3CZ5umWYTpR",
        "colab_type": "text"
      },
      "source": [
        "## ch.1 学習回数を増やしてみる\n",
        "すでに皆さんは機械学習に入門されました.  \n",
        "おめでとうございます!!  \n",
        "次に興味を抱かれることの一つは, 精度の向上でしょうか?  \n",
        "もしそうであれば, いくつか簡単な実験をしてみましょう.  \n",
        "\n",
        "---\n",
        "\n",
        "さて, もしあなたが受けたテストの点数が低かった時, 次のテストではどのように挽回しますか?  \n",
        "簡単に出てくるアイデアは次の二つかもしれません.\n",
        "* 理解するまで問題を解く(何回も同じ問題を解く)\n",
        "* 勉強量(解く問題の量)を増やす\n",
        "\n",
        "そしてこれらは多くの場合, 機械学習でも有効です.\n",
        "\n",
        "---\n",
        "\n",
        "では, 手始めに何回も同じ問題を解いてみましょう.  \n",
        "学習において, 学習の回数は「epochs」という引数にて指定します.  \n",
        "先ほどは「10」と設定したので, 次は「50」ぐらいにしてみます.\n",
        "\n"
      ]
    },
    {
      "cell_type": "code",
      "metadata": {
        "id": "bgI4rd0a4Zc5",
        "colab_type": "code",
        "colab": {
          "base_uri": "https://localhost:8080/",
          "height": 1000
        },
        "outputId": "d47d91fb-9ef5-4a2c-b26c-f843c60f3b76"
      },
      "source": [
        "# 学習 学習回数を50回に変更\n",
        "model.fit(x, y, batch_size=1, epochs=50)"
      ],
      "execution_count": 8,
      "outputs": [
        {
          "output_type": "stream",
          "text": [
            "Train on 7 samples\n",
            "Epoch 1/50\n",
            "7/7 [==============================] - 0s 3ms/sample - loss: 0.0010 - accuracy: 0.1429\n",
            "Epoch 2/50\n",
            "7/7 [==============================] - 0s 3ms/sample - loss: 8.7138e-04 - accuracy: 0.1429\n",
            "Epoch 3/50\n",
            "7/7 [==============================] - 0s 2ms/sample - loss: 7.7710e-04 - accuracy: 0.1429\n",
            "Epoch 4/50\n",
            "7/7 [==============================] - 0s 2ms/sample - loss: 6.7230e-04 - accuracy: 0.1429\n",
            "Epoch 5/50\n",
            "7/7 [==============================] - 0s 3ms/sample - loss: 5.8536e-04 - accuracy: 0.1429\n",
            "Epoch 6/50\n",
            "7/7 [==============================] - 0s 3ms/sample - loss: 5.2196e-04 - accuracy: 0.1429\n",
            "Epoch 7/50\n",
            "7/7 [==============================] - 0s 3ms/sample - loss: 4.3906e-04 - accuracy: 0.1429\n",
            "Epoch 8/50\n",
            "7/7 [==============================] - 0s 3ms/sample - loss: 3.9852e-04 - accuracy: 0.1429\n",
            "Epoch 9/50\n",
            "7/7 [==============================] - 0s 2ms/sample - loss: 3.4528e-04 - accuracy: 0.1429\n",
            "Epoch 10/50\n",
            "7/7 [==============================] - 0s 4ms/sample - loss: 3.0562e-04 - accuracy: 0.1429\n",
            "Epoch 11/50\n",
            "7/7 [==============================] - 0s 3ms/sample - loss: 2.6622e-04 - accuracy: 0.1429\n",
            "Epoch 12/50\n",
            "7/7 [==============================] - 0s 3ms/sample - loss: 2.3056e-04 - accuracy: 0.1429\n",
            "Epoch 13/50\n",
            "7/7 [==============================] - 0s 3ms/sample - loss: 2.0578e-04 - accuracy: 0.1429\n",
            "Epoch 14/50\n",
            "7/7 [==============================] - 0s 3ms/sample - loss: 1.7699e-04 - accuracy: 0.1429\n",
            "Epoch 15/50\n",
            "7/7 [==============================] - 0s 3ms/sample - loss: 1.5577e-04 - accuracy: 0.1429\n",
            "Epoch 16/50\n",
            "7/7 [==============================] - 0s 3ms/sample - loss: 1.3596e-04 - accuracy: 0.1429\n",
            "Epoch 17/50\n",
            "7/7 [==============================] - 0s 3ms/sample - loss: 1.1590e-04 - accuracy: 0.1429\n",
            "Epoch 18/50\n",
            "7/7 [==============================] - 0s 3ms/sample - loss: 1.0486e-04 - accuracy: 0.1429\n",
            "Epoch 19/50\n",
            "7/7 [==============================] - 0s 3ms/sample - loss: 9.0618e-05 - accuracy: 0.1429\n",
            "Epoch 20/50\n",
            "7/7 [==============================] - 0s 3ms/sample - loss: 8.0247e-05 - accuracy: 0.1429\n",
            "Epoch 21/50\n",
            "7/7 [==============================] - 0s 3ms/sample - loss: 6.8922e-05 - accuracy: 0.1429\n",
            "Epoch 22/50\n",
            "7/7 [==============================] - 0s 3ms/sample - loss: 6.1017e-05 - accuracy: 0.1429\n",
            "Epoch 23/50\n",
            "7/7 [==============================] - 0s 3ms/sample - loss: 5.3408e-05 - accuracy: 0.1429\n",
            "Epoch 24/50\n",
            "7/7 [==============================] - 0s 3ms/sample - loss: 4.5983e-05 - accuracy: 0.1429\n",
            "Epoch 25/50\n",
            "7/7 [==============================] - 0s 3ms/sample - loss: 4.0223e-05 - accuracy: 0.1429\n",
            "Epoch 26/50\n",
            "7/7 [==============================] - 0s 3ms/sample - loss: 3.4975e-05 - accuracy: 0.1429\n",
            "Epoch 27/50\n",
            "7/7 [==============================] - 0s 3ms/sample - loss: 3.1392e-05 - accuracy: 0.1429\n",
            "Epoch 28/50\n",
            "7/7 [==============================] - 0s 3ms/sample - loss: 2.7130e-05 - accuracy: 0.1429\n",
            "Epoch 29/50\n",
            "7/7 [==============================] - 0s 3ms/sample - loss: 2.3923e-05 - accuracy: 0.1429\n",
            "Epoch 30/50\n",
            "7/7 [==============================] - 0s 3ms/sample - loss: 2.0837e-05 - accuracy: 0.1429\n",
            "Epoch 31/50\n",
            "7/7 [==============================] - 0s 3ms/sample - loss: 1.8177e-05 - accuracy: 0.1429\n",
            "Epoch 32/50\n",
            "7/7 [==============================] - 0s 3ms/sample - loss: 1.5755e-05 - accuracy: 0.1429\n",
            "Epoch 33/50\n",
            "7/7 [==============================] - 0s 3ms/sample - loss: 1.3919e-05 - accuracy: 0.1429\n",
            "Epoch 34/50\n",
            "7/7 [==============================] - 0s 3ms/sample - loss: 1.2026e-05 - accuracy: 0.1429\n",
            "Epoch 35/50\n",
            "7/7 [==============================] - 0s 2ms/sample - loss: 1.0584e-05 - accuracy: 0.1429\n",
            "Epoch 36/50\n",
            "7/7 [==============================] - 0s 3ms/sample - loss: 9.1823e-06 - accuracy: 0.1429\n",
            "Epoch 37/50\n",
            "7/7 [==============================] - 0s 3ms/sample - loss: 8.1056e-06 - accuracy: 0.1429\n",
            "Epoch 38/50\n",
            "7/7 [==============================] - 0s 3ms/sample - loss: 7.1271e-06 - accuracy: 0.1429\n",
            "Epoch 39/50\n",
            "7/7 [==============================] - 0s 3ms/sample - loss: 6.0167e-06 - accuracy: 0.1429\n",
            "Epoch 40/50\n",
            "7/7 [==============================] - 0s 3ms/sample - loss: 5.4453e-06 - accuracy: 0.1429\n",
            "Epoch 41/50\n",
            "7/7 [==============================] - 0s 3ms/sample - loss: 4.6442e-06 - accuracy: 0.1429\n",
            "Epoch 42/50\n",
            "7/7 [==============================] - 0s 3ms/sample - loss: 4.1696e-06 - accuracy: 0.1429\n",
            "Epoch 43/50\n",
            "7/7 [==============================] - 0s 3ms/sample - loss: 3.6181e-06 - accuracy: 0.1429\n",
            "Epoch 44/50\n",
            "7/7 [==============================] - 0s 3ms/sample - loss: 3.1577e-06 - accuracy: 0.1429\n",
            "Epoch 45/50\n",
            "7/7 [==============================] - 0s 3ms/sample - loss: 2.7658e-06 - accuracy: 0.1429\n",
            "Epoch 46/50\n",
            "7/7 [==============================] - 0s 3ms/sample - loss: 2.4205e-06 - accuracy: 0.1429\n",
            "Epoch 47/50\n",
            "7/7 [==============================] - 0s 3ms/sample - loss: 2.1128e-06 - accuracy: 0.1429\n",
            "Epoch 48/50\n",
            "7/7 [==============================] - 0s 3ms/sample - loss: 1.8355e-06 - accuracy: 0.1429\n",
            "Epoch 49/50\n",
            "7/7 [==============================] - 0s 3ms/sample - loss: 1.5766e-06 - accuracy: 0.1429\n",
            "Epoch 50/50\n",
            "7/7 [==============================] - 0s 3ms/sample - loss: 1.4097e-06 - accuracy: 0.1429\n"
          ],
          "name": "stdout"
        },
        {
          "output_type": "execute_result",
          "data": {
            "text/plain": [
              "<tensorflow.python.keras.callbacks.History at 0x7f3c337178d0>"
            ]
          },
          "metadata": {
            "tags": []
          },
          "execution_count": 8
        }
      ]
    },
    {
      "cell_type": "markdown",
      "metadata": {
        "id": "XgbjkDEh4oc8",
        "colab_type": "text"
      },
      "source": [
        "先ほどと同じテストをすると結果がどう変わるか確認してみましょう."
      ]
    },
    {
      "cell_type": "code",
      "metadata": {
        "id": "INLgCOtv4jHM",
        "colab_type": "code",
        "outputId": "1b66c805-0697-474a-d851-1ac01e9b5b4d",
        "colab": {
          "base_uri": "https://localhost:8080/",
          "height": 34
        }
      },
      "source": [
        "# テスト\n",
        "# x が 10 のとき, どの値を返すかテスト\n",
        "x_test = [10]\n",
        "print(model.predict(x_test))"
      ],
      "execution_count": 9,
      "outputs": [
        {
          "output_type": "stream",
          "text": [
            "[[30.997282]]\n"
          ],
          "name": "stdout"
        }
      ]
    },
    {
      "cell_type": "markdown",
      "metadata": {
        "id": "Sp7hHd0g4x4V",
        "colab_type": "text"
      },
      "source": [
        "誤差が少なくなりました!!"
      ]
    },
    {
      "cell_type": "markdown",
      "metadata": {
        "id": "yVEMcwOR5A8F",
        "colab_type": "text"
      },
      "source": [
        "## ch.2 学習量を増やしてみる\n",
        "次は, 学習量(勉強の量) を増やしてみましょう.  \n",
        "学習量を増やすとはこの場合どうすればよいでしょう?  \n",
        "答えは, データ量を増やすことです.  \n",
        "早速やってみましょう!\n"
      ]
    },
    {
      "cell_type": "code",
      "metadata": {
        "id": "juY6Nyoq6iwf",
        "colab_type": "code",
        "colab": {}
      },
      "source": [
        "# 入力データ\n",
        "x = [-1.0, -0.9, -0.8, -0.7, -0.6, -0.5, -0.4, -0.3, -0.2, -0.1, 0.0, 0.1, 0.2, 0.3, 0.4, 0.5, 0.6, 0.7, 0.8, 0.9, 1.0, 1.1, 1.2, 1.3, 1.4, 1.5, 1.6, 1.7, 1.8, 1.9]"
      ],
      "execution_count": 0,
      "outputs": []
    },
    {
      "cell_type": "markdown",
      "metadata": {
        "id": "2pdEMe7O7fM7",
        "colab_type": "text"
      },
      "source": [
        "これは...  \n",
        "かなり手間であり, バグの元です.  \n",
        "令和の時代, このような手打ちをするべきではありません.  \n",
        "このようなつまらない仕事はすべて機械にやらせましょう.  \n",
        "例えば``numpy`` と呼ばれるライブラリを使うと次のように記述出来ます."
      ]
    },
    {
      "cell_type": "code",
      "metadata": {
        "id": "7TqbOOuI8BWy",
        "colab_type": "code",
        "colab": {}
      },
      "source": [
        "# ライブラリの読み込み\n",
        "import numpy as np"
      ],
      "execution_count": 0,
      "outputs": []
    },
    {
      "cell_type": "code",
      "metadata": {
        "id": "mxpZgOxt8NhD",
        "colab_type": "code",
        "outputId": "30bc55ac-6a70-4b9d-cc69-5b871a03a53e",
        "colab": {
          "base_uri": "https://localhost:8080/",
          "height": 272
        }
      },
      "source": [
        "# 入力データ\n",
        "# -1.0～5.0の範囲で0.1間隔の数列を生成する\n",
        "x = np.arange(-1.0, 5.0, 0.1)\n",
        "print(x)"
      ],
      "execution_count": 12,
      "outputs": [
        {
          "output_type": "stream",
          "text": [
            "[-1.00000000e+00 -9.00000000e-01 -8.00000000e-01 -7.00000000e-01\n",
            " -6.00000000e-01 -5.00000000e-01 -4.00000000e-01 -3.00000000e-01\n",
            " -2.00000000e-01 -1.00000000e-01 -2.22044605e-16  1.00000000e-01\n",
            "  2.00000000e-01  3.00000000e-01  4.00000000e-01  5.00000000e-01\n",
            "  6.00000000e-01  7.00000000e-01  8.00000000e-01  9.00000000e-01\n",
            "  1.00000000e+00  1.10000000e+00  1.20000000e+00  1.30000000e+00\n",
            "  1.40000000e+00  1.50000000e+00  1.60000000e+00  1.70000000e+00\n",
            "  1.80000000e+00  1.90000000e+00  2.00000000e+00  2.10000000e+00\n",
            "  2.20000000e+00  2.30000000e+00  2.40000000e+00  2.50000000e+00\n",
            "  2.60000000e+00  2.70000000e+00  2.80000000e+00  2.90000000e+00\n",
            "  3.00000000e+00  3.10000000e+00  3.20000000e+00  3.30000000e+00\n",
            "  3.40000000e+00  3.50000000e+00  3.60000000e+00  3.70000000e+00\n",
            "  3.80000000e+00  3.90000000e+00  4.00000000e+00  4.10000000e+00\n",
            "  4.20000000e+00  4.30000000e+00  4.40000000e+00  4.50000000e+00\n",
            "  4.60000000e+00  4.70000000e+00  4.80000000e+00  4.90000000e+00]\n"
          ],
          "name": "stdout"
        }
      ]
    },
    {
      "cell_type": "markdown",
      "metadata": {
        "id": "GlgpCqxy8fc0",
        "colab_type": "text"
      },
      "source": [
        "非常に簡潔であり, 簡単です.  \n",
        "そして, ``numpy`` を使うと「y」をより簡単に記述できます."
      ]
    },
    {
      "cell_type": "code",
      "metadata": {
        "id": "s9CNS64U9Ays",
        "colab_type": "code",
        "outputId": "11362739-b4fc-4df1-934e-c30cb510d232",
        "colab": {
          "base_uri": "https://localhost:8080/",
          "height": 102
        }
      },
      "source": [
        "# 出力データ\n",
        "y = 3*x + 1\n",
        "print(y)"
      ],
      "execution_count": 13,
      "outputs": [
        {
          "output_type": "stream",
          "text": [
            "[-2.  -1.7 -1.4 -1.1 -0.8 -0.5 -0.2  0.1  0.4  0.7  1.   1.3  1.6  1.9\n",
            "  2.2  2.5  2.8  3.1  3.4  3.7  4.   4.3  4.6  4.9  5.2  5.5  5.8  6.1\n",
            "  6.4  6.7  7.   7.3  7.6  7.9  8.2  8.5  8.8  9.1  9.4  9.7 10.  10.3\n",
            " 10.6 10.9 11.2 11.5 11.8 12.1 12.4 12.7 13.  13.3 13.6 13.9 14.2 14.5\n",
            " 14.8 15.1 15.4 15.7]\n"
          ],
          "name": "stdout"
        }
      ]
    },
    {
      "cell_type": "markdown",
      "metadata": {
        "id": "78SXdtar9ZOg",
        "colab_type": "text"
      },
      "source": [
        "なんと, 数式をほぼそのまま記述できます.  \n",
        "では, 学習とテストをしてみましょう!"
      ]
    },
    {
      "cell_type": "code",
      "metadata": {
        "id": "IYNeeDde9mMf",
        "colab_type": "code",
        "colab": {
          "base_uri": "https://localhost:8080/",
          "height": 391
        },
        "outputId": "c82bda1f-a7fa-4999-e127-1c496ee7e972"
      },
      "source": [
        "# 学習\n",
        "model.fit(x, y, batch_size=1, epochs=10)"
      ],
      "execution_count": 14,
      "outputs": [
        {
          "output_type": "stream",
          "text": [
            "Train on 60 samples\n",
            "Epoch 1/10\n",
            "60/60 [==============================] - 0s 1ms/sample - loss: 7.0215e-07 - accuracy: 0.0167\n",
            "Epoch 2/10\n",
            "60/60 [==============================] - 0s 1ms/sample - loss: 2.7311e-07 - accuracy: 0.0167\n",
            "Epoch 3/10\n",
            "60/60 [==============================] - 0s 1ms/sample - loss: 9.9784e-08 - accuracy: 0.0167\n",
            "Epoch 4/10\n",
            "60/60 [==============================] - 0s 1ms/sample - loss: 3.9314e-08 - accuracy: 0.0167\n",
            "Epoch 5/10\n",
            "60/60 [==============================] - 0s 1ms/sample - loss: 1.4641e-08 - accuracy: 0.0167\n",
            "Epoch 6/10\n",
            "60/60 [==============================] - 0s 1ms/sample - loss: 5.2572e-09 - accuracy: 0.0167\n",
            "Epoch 7/10\n",
            "60/60 [==============================] - 0s 1ms/sample - loss: 2.0830e-09 - accuracy: 0.0167\n",
            "Epoch 8/10\n",
            "60/60 [==============================] - 0s 1ms/sample - loss: 7.7836e-10 - accuracy: 0.0167\n",
            "Epoch 9/10\n",
            "60/60 [==============================] - 0s 1ms/sample - loss: 2.9388e-10 - accuracy: 0.0167\n",
            "Epoch 10/10\n",
            "60/60 [==============================] - 0s 1ms/sample - loss: 1.0857e-10 - accuracy: 0.0167\n"
          ],
          "name": "stdout"
        },
        {
          "output_type": "execute_result",
          "data": {
            "text/plain": [
              "<tensorflow.python.keras.callbacks.History at 0x7f3c2cd7d898>"
            ]
          },
          "metadata": {
            "tags": []
          },
          "execution_count": 14
        }
      ]
    },
    {
      "cell_type": "code",
      "metadata": {
        "id": "mjy2hS2K-K9A",
        "colab_type": "code",
        "outputId": "dcbe53f1-19b3-4cdb-d11f-1ce46d458f73",
        "colab": {
          "base_uri": "https://localhost:8080/",
          "height": 34
        }
      },
      "source": [
        "# テスト\n",
        "# x が 10 のとき, どの値を返すかテスト\n",
        "x_test = [10]\n",
        "print(model.predict(x_test))"
      ],
      "execution_count": 15,
      "outputs": [
        {
          "output_type": "stream",
          "text": [
            "[[30.999971]]\n"
          ],
          "name": "stdout"
        }
      ]
    },
    {
      "cell_type": "markdown",
      "metadata": {
        "id": "ILmxU_r1_QcB",
        "colab_type": "text"
      },
      "source": [
        "非常に良い結果を得ることに成功しました!!"
      ]
    },
    {
      "cell_type": "markdown",
      "metadata": {
        "id": "g5DK8Q5k_dnw",
        "colab_type": "text"
      },
      "source": [
        "## まとめ\n",
        "機械学習を入門することに成功しました.  \n",
        "また, 精度を向上させるために\n",
        "* 学習回数を増やす\n",
        "* データを増やす\n",
        "\n",
        "といった実験しました.  \n",
        "そしてこれらは良い結果を生み出しました."
      ]
    }
  ]
}