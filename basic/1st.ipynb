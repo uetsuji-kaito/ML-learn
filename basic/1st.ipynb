{
  "nbformat": 4,
  "nbformat_minor": 0,
  "metadata": {
    "colab": {
      "name": "1st.ipynb",
      "provenance": [],
      "collapsed_sections": [],
      "toc_visible": true,
      "authorship_tag": "ABX9TyNNoNvcMydXtnNsTgG/Lhiz",
      "include_colab_link": true
    },
    "kernelspec": {
      "name": "python3",
      "display_name": "Python 3"
    }
  },
  "cells": [
    {
      "cell_type": "markdown",
      "metadata": {
        "id": "view-in-github",
        "colab_type": "text"
      },
      "source": [
        "<a href=\"https://colab.research.google.com/github/uetsuji-kaito/ML-learn/blob/master/basic/1st.ipynb\" target=\"_parent\"><img src=\"https://colab.research.google.com/assets/colab-badge.svg\" alt=\"Open In Colab\"/></a>"
      ]
    },
    {
      "cell_type": "markdown",
      "metadata": {
        "id": "2BDPxfNvS2dT",
        "colab_type": "text"
      },
      "source": [
        "## ch.0 兎にも角にも始めてみる\n",
        "何も考えず始めてみましょう!  \n",
        "まずは, 上から順に各セルを実行してみましょう.  \n",
        "そして, ゆっくりとコードを眺めてみましょう.  \n",
        "大切なことは始めてみることです.  \n",
        "分からなくても今は進みましょう. いつかわかる日が来ます."
      ]
    },
    {
      "cell_type": "code",
      "metadata": {
        "id": "k7sJzi-mP2bV",
        "colab_type": "code",
        "colab": {}
      },
      "source": [
        "# 必要なライブラリのインストール\n",
        "!pip install tensorflow==2.1.0"
      ],
      "execution_count": 0,
      "outputs": []
    },
    {
      "cell_type": "code",
      "metadata": {
        "id": "bXky9m0WKjZ4",
        "colab_type": "code",
        "outputId": "6a16e63d-b1be-4c8d-9b2c-9c1d1d446ece",
        "colab": {
          "base_uri": "https://localhost:8080/",
          "height": 34
        }
      },
      "source": [
        "# 必要なライブラリの読み込み\n",
        "import tensorflow as tf\n",
        "print(tf.__version__)\n",
        "from tensorflow import keras"
      ],
      "execution_count": 2,
      "outputs": [
        {
          "output_type": "stream",
          "text": [
            "2.1.0\n"
          ],
          "name": "stdout"
        }
      ]
    },
    {
      "cell_type": "markdown",
      "metadata": {
        "id": "4qR584AkT2jh",
        "colab_type": "text"
      },
      "source": [
        "ここで, データを与えます.\n",
        "「x」が入力データであり「y」は出力データです. この二つの変数には\n",
        "$$\n",
        "y = 3x+1\n",
        "$$\n",
        "という関係があります.  "
      ]
    },
    {
      "cell_type": "code",
      "metadata": {
        "id": "0o6vfcCGK0v2",
        "colab_type": "code",
        "colab": {}
      },
      "source": [
        "# 入力データ\n",
        "x = [-1.0, 0.0, 1.0, 2.0, 3.0, 4.0, 5.0]\n",
        "# 出力データ\n",
        "y = [-2.0, 1.0, 4.0, 7.0, 10.0, 13.0, 16.0]"
      ],
      "execution_count": 0,
      "outputs": []
    },
    {
      "cell_type": "markdown",
      "metadata": {
        "id": "97CckVALU0Js",
        "colab_type": "text"
      },
      "source": [
        "ここで, モデルを作成します.  \n",
        "モデルを作成する手順は単純で,  \n",
        "1. モデルを定義する\n",
        "2. モデルをコンパイルする\n",
        "\n",
        "の2つです.  \n",
        "今はこんなもんなのかということでOKです."
      ]
    },
    {
      "cell_type": "code",
      "metadata": {
        "id": "QtsUrwbELMrx",
        "colab_type": "code",
        "colab": {}
      },
      "source": [
        "# モデルの定義\n",
        "model = keras.Sequential()\n",
        "# 今回は全結合層1層\n",
        "model.add(keras.layers.Dense(units=1, input_shape=(1,)))\n",
        "# モデルのコンパイル\n",
        "# 最適化手法はSGD(確率的勾配降下法)\n",
        "# 損失関数は2乗和誤差\n",
        "model.compile(\n",
        "    optimizer=keras.optimizers.SGD(), \n",
        "    loss=keras.losses.MeanSquaredError(),\n",
        "    metrics=[\"accuracy\"]\n",
        ")"
      ],
      "execution_count": 0,
      "outputs": []
    },
    {
      "cell_type": "markdown",
      "metadata": {
        "id": "-nIlO0MZV2QK",
        "colab_type": "text"
      },
      "source": [
        "いよいよ学習です!  \n",
        "学習を行う「fit」関数には「epochs」 という引数があります.  \n",
        "これは, 学習の回数 を意味します.  \n",
        "この引数はエンジニアが状況に応じて自由に設定します.  \n",
        "後程いじってみましょう."
      ]
    },
    {
      "cell_type": "code",
      "metadata": {
        "id": "TnhboXGRNLBl",
        "colab_type": "code",
        "outputId": "30204163-a301-4bb2-80cf-092c8fef3052",
        "colab": {
          "base_uri": "https://localhost:8080/",
          "height": 391
        }
      },
      "source": [
        "# 学習\n",
        "model.fit(x, y, batch_size=1, epochs=10)"
      ],
      "execution_count": 6,
      "outputs": [
        {
          "output_type": "stream",
          "text": [
            "Train on 7 samples\n",
            "Epoch 1/10\n",
            "7/7 [==============================] - 0s 26ms/sample - loss: 68.4600 - accuracy: 0.1429\n",
            "Epoch 2/10\n",
            "7/7 [==============================] - 0s 3ms/sample - loss: 3.6395 - accuracy: 0.1429\n",
            "Epoch 3/10\n",
            "7/7 [==============================] - 0s 2ms/sample - loss: 0.1683 - accuracy: 0.1429\n",
            "Epoch 4/10\n",
            "7/7 [==============================] - 0s 3ms/sample - loss: 0.0109 - accuracy: 0.1429\n",
            "Epoch 5/10\n",
            "7/7 [==============================] - 0s 3ms/sample - loss: 0.0027 - accuracy: 0.1429  \n",
            "Epoch 6/10\n",
            "7/7 [==============================] - 0s 2ms/sample - loss: 0.0020 - accuracy: 0.1429  \n",
            "Epoch 7/10\n",
            "7/7 [==============================] - 0s 2ms/sample - loss: 0.0017 - accuracy: 0.1429  \n",
            "Epoch 8/10\n",
            "7/7 [==============================] - 0s 2ms/sample - loss: 0.0015 - accuracy: 0.1429  \n",
            "Epoch 9/10\n",
            "7/7 [==============================] - 0s 3ms/sample - loss: 0.0013 - accuracy: 0.1429\n",
            "Epoch 10/10\n",
            "7/7 [==============================] - 0s 3ms/sample - loss: 0.0011 - accuracy: 0.1429\n"
          ],
          "name": "stdout"
        },
        {
          "output_type": "execute_result",
          "data": {
            "text/plain": [
              "<tensorflow.python.keras.callbacks.History at 0x7f3c336ce438>"
            ]
          },
          "metadata": {
            "tags": []
          },
          "execution_count": 6
        }
      ]
    },
    {
      "cell_type": "markdown",
      "metadata": {
        "id": "c43DOShVW4wV",
        "colab_type": "text"
      },
      "source": [
        "**あなたも機械学習に入門できました!!**  \n",
        "最後にきちんと学習できたか試してこの章を終わりましょう.  \n",
        "今回は試しに「10」を入れてみましょう.  \n",
        "理論的には「31」が正しい値です. 果たして結果は..."
      ]
    },
    {
      "cell_type": "code",
      "metadata": {
        "id": "cqydy6lZNv3h",
        "colab_type": "code",
        "outputId": "f65760bd-aa8a-4a99-dfb3-8e699b5ed9ab",
        "colab": {
          "base_uri": "https://localhost:8080/",
          "height": 34
        }
      },
      "source": [
        "# テスト\n",
        "# x が 10 のとき, どの値を返すかテスト\n",
        "x_test = [10]\n",
        "print(model.predict(x_test))"
      ],
      "execution_count": 7,
      "outputs": [
        {
          "output_type": "stream",
          "text": [
            "[[30.920404]]\n"
          ],
          "name": "stdout"
        }
      ]
    },
    {
      "cell_type": "markdown",
      "metadata": {
        "id": "m3CZ5umWYTpR",
        "colab_type": "text"
      },
      "source": [
        "## ch.1 学習回数を増やしてみる\n",
        "すでに皆さんは機械学習に入門されました.  \n",
        "おめでとうございます!!  \n",
        "次に興味を抱かれることの一つは, 精度の向上でしょうか?  \n",
        "もしそうであれば, いくつか簡単な実験をしてみましょう.  \n",
        "\n",
        "---\n",
        "\n",
        "さて, もしあなたが受けたテストの点数が低かった時, 次のテストではどのように挽回しますか?  \n",
        "簡単に出てくるアイデアは次の二つかもしれません.\n",
        "* 理解するまで問題を解く(何回も同じ問題を解く)\n",
        "* 勉強量(解く問題の量)を増やす\n",
        "\n",
        "そしてこれらは多くの場合, 機械学習でも有効です.\n",
        "\n",
        "---\n",
        "\n",
        "では, 手始めに何回も同じ問題を解いてみましょう.  \n",
        "学習において, 学習の回数は「epochs」という引数にて指定します.  \n",
        "先ほどは「10」と設定したので, 次は「50」ぐらいにしてみます.\n",
        "\n"
      ]
    },
    {
      "cell_type": "code",
      "metadata": {
        "id": "bgI4rd0a4Zc5",
        "colab_type": "code",
        "colab": {}
      },
      "source": [
        "# 学習 学習回数を50回に変更\n",
        "model.fit(x, y, batch_size=1, epochs=50)"
      ],
      "execution_count": 0,
      "outputs": []
    },
    {
      "cell_type": "markdown",
      "metadata": {
        "id": "XgbjkDEh4oc8",
        "colab_type": "text"
      },
      "source": [
        "先ほどと同じテストをすると結果がどう変わるか確認してみましょう."
      ]
    },
    {
      "cell_type": "code",
      "metadata": {
        "id": "INLgCOtv4jHM",
        "colab_type": "code",
        "outputId": "1b66c805-0697-474a-d851-1ac01e9b5b4d",
        "colab": {
          "base_uri": "https://localhost:8080/",
          "height": 34
        }
      },
      "source": [
        "# テスト\n",
        "# x が 10 のとき, どの値を返すかテスト\n",
        "x_test = [10]\n",
        "print(model.predict(x_test))"
      ],
      "execution_count": 9,
      "outputs": [
        {
          "output_type": "stream",
          "text": [
            "[[30.997282]]\n"
          ],
          "name": "stdout"
        }
      ]
    },
    {
      "cell_type": "markdown",
      "metadata": {
        "id": "Sp7hHd0g4x4V",
        "colab_type": "text"
      },
      "source": [
        "誤差が少なくなりました!!"
      ]
    },
    {
      "cell_type": "markdown",
      "metadata": {
        "id": "yVEMcwOR5A8F",
        "colab_type": "text"
      },
      "source": [
        "## ch.2 学習量を増やしてみる\n",
        "次は, 学習量(勉強の量) を増やしてみましょう.  \n",
        "学習量を増やすとはこの場合どうすればよいでしょう?  \n",
        "答えは, データ量を増やすことです.  \n",
        "早速やってみましょう!\n"
      ]
    },
    {
      "cell_type": "code",
      "metadata": {
        "id": "juY6Nyoq6iwf",
        "colab_type": "code",
        "colab": {}
      },
      "source": [
        "# 入力データ\n",
        "x = [-1.0, -0.9, -0.8, -0.7, -0.6, -0.5, -0.4, -0.3, -0.2, -0.1, 0.0, 0.1, 0.2, 0.3, 0.4, 0.5, 0.6, 0.7, 0.8, 0.9, 1.0, 1.1, 1.2, 1.3, 1.4, 1.5, 1.6, 1.7, 1.8, 1.9]"
      ],
      "execution_count": 0,
      "outputs": []
    },
    {
      "cell_type": "markdown",
      "metadata": {
        "id": "2pdEMe7O7fM7",
        "colab_type": "text"
      },
      "source": [
        "これは...  \n",
        "かなり手間であり, バグの元です.  \n",
        "令和の時代, このような手打ちをするべきではありません.  \n",
        "このようなつまらない仕事はすべて機械にやらせましょう.  \n",
        "例えば``numpy`` と呼ばれるライブラリを使うと次のように記述出来ます."
      ]
    },
    {
      "cell_type": "code",
      "metadata": {
        "id": "7TqbOOuI8BWy",
        "colab_type": "code",
        "colab": {}
      },
      "source": [
        "# ライブラリの読み込み\n",
        "import numpy as np"
      ],
      "execution_count": 0,
      "outputs": []
    },
    {
      "cell_type": "code",
      "metadata": {
        "id": "mxpZgOxt8NhD",
        "colab_type": "code",
        "colab": {}
      },
      "source": [
        "# 入力データ\n",
        "# -1.0～5.0の範囲で0.1間隔の数列を生成する\n",
        "x = np.arange(-1.0, 5.0, 0.1)\n",
        "print(x)"
      ],
      "execution_count": 0,
      "outputs": []
    },
    {
      "cell_type": "markdown",
      "metadata": {
        "id": "GlgpCqxy8fc0",
        "colab_type": "text"
      },
      "source": [
        "非常に簡潔であり, 簡単です.  \n",
        "そして, ``numpy`` を使うと「y」をより簡単に記述できます."
      ]
    },
    {
      "cell_type": "code",
      "metadata": {
        "id": "s9CNS64U9Ays",
        "colab_type": "code",
        "outputId": "11362739-b4fc-4df1-934e-c30cb510d232",
        "colab": {
          "base_uri": "https://localhost:8080/",
          "height": 102
        }
      },
      "source": [
        "# 出力データ\n",
        "y = 3*x + 1\n",
        "print(y)"
      ],
      "execution_count": 13,
      "outputs": [
        {
          "output_type": "stream",
          "text": [
            "[-2.  -1.7 -1.4 -1.1 -0.8 -0.5 -0.2  0.1  0.4  0.7  1.   1.3  1.6  1.9\n",
            "  2.2  2.5  2.8  3.1  3.4  3.7  4.   4.3  4.6  4.9  5.2  5.5  5.8  6.1\n",
            "  6.4  6.7  7.   7.3  7.6  7.9  8.2  8.5  8.8  9.1  9.4  9.7 10.  10.3\n",
            " 10.6 10.9 11.2 11.5 11.8 12.1 12.4 12.7 13.  13.3 13.6 13.9 14.2 14.5\n",
            " 14.8 15.1 15.4 15.7]\n"
          ],
          "name": "stdout"
        }
      ]
    },
    {
      "cell_type": "markdown",
      "metadata": {
        "id": "78SXdtar9ZOg",
        "colab_type": "text"
      },
      "source": [
        "なんと, 数式をほぼそのまま記述できます.  \n",
        "では, 学習とテストをしてみましょう!"
      ]
    },
    {
      "cell_type": "code",
      "metadata": {
        "id": "IYNeeDde9mMf",
        "colab_type": "code",
        "colab": {}
      },
      "source": [
        "# 学習\n",
        "model.fit(x, y, batch_size=1, epochs=10)"
      ],
      "execution_count": 0,
      "outputs": []
    },
    {
      "cell_type": "code",
      "metadata": {
        "id": "mjy2hS2K-K9A",
        "colab_type": "code",
        "outputId": "dcbe53f1-19b3-4cdb-d11f-1ce46d458f73",
        "colab": {
          "base_uri": "https://localhost:8080/",
          "height": 34
        }
      },
      "source": [
        "# テスト\n",
        "# x が 10 のとき, どの値を返すかテスト\n",
        "x_test = [10]\n",
        "print(model.predict(x_test))"
      ],
      "execution_count": 15,
      "outputs": [
        {
          "output_type": "stream",
          "text": [
            "[[30.999971]]\n"
          ],
          "name": "stdout"
        }
      ]
    },
    {
      "cell_type": "markdown",
      "metadata": {
        "id": "ILmxU_r1_QcB",
        "colab_type": "text"
      },
      "source": [
        "非常に良い結果を得ることに成功しました!!"
      ]
    },
    {
      "cell_type": "markdown",
      "metadata": {
        "id": "g5DK8Q5k_dnw",
        "colab_type": "text"
      },
      "source": [
        "## まとめ\n",
        "機械学習を入門することに成功しました.  \n",
        "また, 精度を向上させるために\n",
        "* 学習回数を増やす\n",
        "* データを増やす\n",
        "\n",
        "といった実験しました.  \n",
        "そしてこれらは良い結果を生み出しました."
      ]
    }
  ]
}